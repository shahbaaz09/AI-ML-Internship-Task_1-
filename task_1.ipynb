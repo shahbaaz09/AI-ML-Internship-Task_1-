{
 "cells": [
  {
   "cell_type": "code",
   "execution_count": 2,
   "id": "ce82f9a5-65c1-4223-bdfb-e894fe2f88d6",
   "metadata": {},
   "outputs": [
    {
     "name": "stdout",
     "output_type": "stream",
     "text": [
      "(891, 12)\n",
      "<class 'pandas.core.frame.DataFrame'>\n",
      "RangeIndex: 891 entries, 0 to 890\n",
      "Data columns (total 12 columns):\n",
      " #   Column       Non-Null Count  Dtype  \n",
      "---  ------       --------------  -----  \n",
      " 0   PassengerId  891 non-null    int64  \n",
      " 1   Survived     891 non-null    int64  \n",
      " 2   Pclass       891 non-null    int64  \n",
      " 3   Name         891 non-null    object \n",
      " 4   Sex          891 non-null    object \n",
      " 5   Age          714 non-null    float64\n",
      " 6   SibSp        891 non-null    int64  \n",
      " 7   Parch        891 non-null    int64  \n",
      " 8   Ticket       891 non-null    object \n",
      " 9   Fare         891 non-null    float64\n",
      " 10  Cabin        204 non-null    object \n",
      " 11  Embarked     889 non-null    object \n",
      "dtypes: float64(2), int64(5), object(5)\n",
      "memory usage: 83.7+ KB\n",
      "None\n",
      "PassengerId      0\n",
      "Survived         0\n",
      "Pclass           0\n",
      "Name             0\n",
      "Sex              0\n",
      "Age            177\n",
      "SibSp            0\n",
      "Parch            0\n",
      "Ticket           0\n",
      "Fare             0\n",
      "Cabin          687\n",
      "Embarked         2\n",
      "dtype: int64\n"
     ]
    },
    {
     "data": {
      "image/png": "[encoded data removed]",
      "text/plain": [
       "<Figure size 1000x400 with 1 Axes>"
      ]
     },
     "metadata": {},
     "output_type": "display_data"
    },
    {
     "name": "stdout",
     "output_type": "stream",
     "text": [
      "   Survived  Pclass  Sex       Age  SibSp  Parch      Fare  Embarked_Q  \\\n",
      "0         0       3    1 -0.528321      1      0 -0.779117       False   \n",
      "2         1       3    0 -0.215182      0      0 -0.729373       False   \n",
      "3         1       1    0  0.489381      1      0  2.599828       False   \n",
      "4         0       3    1  0.489381      0      0 -0.720161       False   \n",
      "5         0       3    1 -0.058613      0      0 -0.690071        True   \n",
      "\n",
      "   Embarked_S  \n",
      "0        True  \n",
      "2        True  \n",
      "3        True  \n",
      "4        True  \n",
      "5       False  \n",
      "         Survived     Pclass         Sex           Age       SibSp  \\\n",
      "count  775.000000  775.00000  775.000000  7.750000e+02  775.000000   \n",
      "mean     0.339355    2.48000    0.685161 -1.008512e-16    0.437419   \n",
      "std      0.473796    0.73439    0.464752  1.000646e+00    0.899838   \n",
      "min      0.000000    1.00000    0.000000 -2.217707e+00    0.000000   \n",
      "25%      0.000000    2.00000    0.000000 -5.283213e-01    0.000000   \n",
      "50%      0.000000    3.00000    1.000000 -5.861258e-02    0.000000   \n",
      "75%      1.000000    3.00000    1.000000  4.110961e-01    1.000000   \n",
      "max      1.000000    3.00000    1.000000  4.012196e+00    5.000000   \n",
      "\n",
      "            Parch          Fare  \n",
      "count  775.000000  7.750000e+02  \n",
      "mean     0.340645  7.334635e-17  \n",
      "std      0.785914  1.000646e+00  \n",
      "min      0.000000 -1.313411e+00  \n",
      "25%      0.000000 -7.315244e-01  \n",
      "50%      0.000000 -3.553671e-01  \n",
      "75%      0.000000  6.026763e-01  \n",
      "max      6.000000  3.476807e+00  \n"
     ]
    }
   ],
   "source": [
    "import pandas as pd\n",
    "import numpy as np\n",
    "import seaborn as sns\n",
    "import matplotlib.pyplot as plt\n",
    "from sklearn.preprocessing import StandardScaler, LabelEncoder\n",
    "\n",
    "\n",
    "df = pd.read_csv(\"titanic.csv\")\n",
    "\n",
    "\n",
    "print(df.shape)\n",
    "print(df.info())\n",
    "print(df.isnull().sum())\n",
    "\n",
    "df['Age'] = df['Age'].fillna(df['Age'].median())\n",
    "\n",
    "df['Embarked'] = df['Embarked'].fillna(df['Embarked'].mode()[0])\n",
    "\n",
    "df.drop('Cabin', axis=1, inplace=True)\n",
    "\n",
    "df.drop(['PassengerId', 'Name', 'Ticket'], axis=1, inplace=True)\n",
    "\n",
    "le = LabelEncoder()\n",
    "df['Sex'] = le.fit_transform(df['Sex'])\n",
    "\n",
    "df = pd.get_dummies(df, columns=['Embarked'], drop_first=True)\n",
    "\n",
    "plt.figure(figsize=(10, 4))\n",
    "sns.boxplot(x=df['Fare'])\n",
    "plt.title(\"Boxplot - Fare\")\n",
    "plt.show()\n",
    "\n",
    "Q1 = df['Fare'].quantile(0.25)\n",
    "Q3 = df['Fare'].quantile(0.75)\n",
    "IQR = Q3 - Q1\n",
    "df = df[(df['Fare'] >= Q1 - 1.5 * IQR) & (df['Fare'] <= Q3 + 1.5 * IQR)]\n",
    "\n",
    "scaler = StandardScaler()\n",
    "df[['Age', 'Fare']] = scaler.fit_transform(df[['Age', 'Fare']])\n",
    "\n",
    "print(df.head())\n",
    "print(df.describe())\n",
    "\n",
    "df.to_csv(\"titanic_cleaned.csv\", index=False)"
   ]
  },
  {
   "cell_type": "code",
   "execution_count": null,
   "id": "2a4d88e8-8a40-459f-8f3b-7fcf27f1d4bf",
   "metadata": {},
   "outputs": [],
   "source": []
  }
 ],
 "metadata": {
  "kernelspec": {
   "display_name": "Python [conda env:base] *",
   "language": "python",
   "name": "conda-base-py"
  },
  "language_info": {
   "codemirror_mode": {
    "name": "ipython",
    "version": 3
   },
   "file_extension": ".py",
   "mimetype": "text/x-python",
   "name": "python",
   "nbconvert_exporter": "python",
   "pygments_lexer": "ipython3",
   "version": "3.12.7"
  }
 },
 "nbformat": 4,
 "nbformat_minor": 5
}
